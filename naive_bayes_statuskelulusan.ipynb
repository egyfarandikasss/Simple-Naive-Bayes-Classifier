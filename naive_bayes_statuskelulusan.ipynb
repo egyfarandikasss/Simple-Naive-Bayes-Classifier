{
 "cells": [
  {
   "cell_type": "code",
   "execution_count": null,
   "metadata": {},
   "outputs": [],
   "source": [
    "# import modules \n",
    "import numpy as np\n",
    "import pandas as pd \n",
    "import matplotlib.pyplot as plt \n",
    "from sklearn.preprocessing import LabelEncoder\n",
    "from sklearn.model_selection import train_test_split\n",
    "from sklearn.naive_bayes import CategoricalNB\n",
    "from sklearn.metrics import classification_report\n",
    "from sklearn.metrics import confusion_matrix\n",
    "from sklearn.metrics import accuracy_score"
   ]
  },
  {
   "cell_type": "code",
   "execution_count": null,
   "metadata": {},
   "outputs": [],
   "source": [
    "# load dataset \n",
    "dataset = pd.read_excel('.../status_kelulusan.xlsx')\n",
    "print(dataset.head())"
   ]
  },
  {
   "cell_type": "code",
   "execution_count": null,
   "metadata": {},
   "outputs": [],
   "source": [
    "# dataset description\n",
    "print(dataset.shape)\n",
    "print(dataset.info())"
   ]
  },
  {
   "cell_type": "code",
   "execution_count": null,
   "metadata": {},
   "outputs": [],
   "source": [
    "# checking missing data \n",
    "print(dataset.isnull().sum())"
   ]
  },
  {
   "cell_type": "code",
   "execution_count": null,
   "metadata": {},
   "outputs": [],
   "source": [
    "# replace missing values with mean \n",
    "dataset['IPK'] = dataset['IPK'].fillna(dataset['IPK'].mean())"
   ]
  },
  {
   "cell_type": "code",
   "execution_count": null,
   "metadata": {},
   "outputs": [],
   "source": [
    "# checking missing data \n",
    "print(dataset.isnull().sum())"
   ]
  },
  {
   "cell_type": "code",
   "execution_count": null,
   "metadata": {},
   "outputs": [],
   "source": [
    "# checking type of data \n",
    "print(dataset.dtypes)\n",
    "print(dataset.head(2))"
   ]
  },
  {
   "cell_type": "code",
   "execution_count": null,
   "metadata": {},
   "outputs": [],
   "source": [
    "# relabeling column 'Jenis Kelamin', 'Status Mahasiswa', 'Status Pernikahan' \n",
    "le = LabelEncoder()\n",
    "dataset['Jenis Kelamin'] = le.fit_transform(dataset['Jenis Kelamin'])\n",
    "dataset['Status Mahasiswa'] = le.fit_transform(dataset['Status Mahasiswa'])\n",
    "dataset['Status Pernikahan'] = le.fit_transform(dataset['Status Pernikahan'])\n",
    "print(dataset.head())"
   ]
  },
  {
   "cell_type": "code",
   "execution_count": null,
   "metadata": {},
   "outputs": [],
   "source": [
    "#class distribution \n",
    "print(dataset.groupby(\"Status Kelulusan\").size())"
   ]
  },
  {
   "cell_type": "code",
   "execution_count": null,
   "metadata": {},
   "outputs": [],
   "source": [
    "#create validation dataset\n",
    "#split-out validation dataset\n",
    "array = dataset.values\n",
    "X = array[:, 0:4]\n",
    "y = array[:, 4]\n",
    "X_train, X_val, y_train, y_val = train_test_split(X, y, test_size= 0.20, random_state = 8)"
   ]
  },
  {
   "cell_type": "code",
   "execution_count": null,
   "metadata": {},
   "outputs": [],
   "source": [
    "#make prediction on validation dataset \n",
    "model = CategoricalNB()\n",
    "model.fit(X_train, y_train)\n",
    "pred = model.predict(X_val)"
   ]
  },
  {
   "cell_type": "code",
   "execution_count": null,
   "metadata": {},
   "outputs": [],
   "source": [
    "#evaluate predictions\n",
    "def evaluate (X, y): \n",
    "    print('Accuracy score: ', accuracy_score(X, y))\n",
    "    print('Confussion Matrix: \\n', confusion_matrix(X, y))\n",
    "    print('Classifiation Report: \\n', classification_report(X, y))"
   ]
  },
  {
   "cell_type": "code",
   "execution_count": null,
   "metadata": {},
   "outputs": [],
   "source": [
    "evaluate(y_val, pred)"
   ]
  },
  {
   "cell_type": "code",
   "execution_count": null,
   "metadata": {},
   "outputs": [],
   "source": [
    "dataset.head()"
   ]
  },
  {
   "cell_type": "code",
   "execution_count": null,
   "metadata": {},
   "outputs": [],
   "source": [
    "# Predict new data \n",
    "# example 3 new data \n",
    "new_data = {'Jenis Kelamin': ['Laki-laki', 'Perempuan', 'Laki-laki'], \n",
    "           'Status Mahasiswa': ['Bekerja', 'Mahasiswa', 'Mahasiswa'], \n",
    "           'Status Pernikahan': ['Belum', 'Belum', 'Belum'], \n",
    "           'IPK': [3.43, 3.71, 2.90]}\n",
    "new_data = pd.DataFrame(new_data)\n",
    "# relabeling column 'Jenis Kelamin', 'Status Mahasiswa', 'Status Pernikahan' \n",
    "le = LabelEncoder()\n",
    "new_data['Jenis Kelamin'] = le.fit_transform(new_data['Jenis Kelamin'])\n",
    "new_data['Status Mahasiswa'] = le.fit_transform(new_data['Status Mahasiswa'])\n",
    "new_data['Status Pernikahan'] = le.fit_transform(new_data['Status Pernikahan'])\n",
    "arr_new_data = new_data.values"
   ]
  },
  {
   "cell_type": "code",
   "execution_count": null,
   "metadata": {},
   "outputs": [],
   "source": [
    "# make a prediction\n",
    "ynew_data = model.predict(new_data)\n",
    "\n",
    "# show the inputs and predicted outputs\n",
    "for i in range(len(arr_new_data)):\n",
    "    print(\"X=%s, Predicted=%s\" % (arr_new_data[i], ynew_data[i]))"
   ]
  },
  {
   "cell_type": "code",
   "execution_count": null,
   "metadata": {},
   "outputs": [],
   "source": []
  }
 ],
 "metadata": {
  "kernelspec": {
   "display_name": "Python 3",
   "language": "python",
   "name": "python3"
  },
  "language_info": {
   "codemirror_mode": {
    "name": "ipython",
    "version": 3
   },
   "file_extension": ".py",
   "mimetype": "text/x-python",
   "name": "python",
   "nbconvert_exporter": "python",
   "pygments_lexer": "ipython3",
   "version": "3.7.3"
  }
 },
 "nbformat": 4,
 "nbformat_minor": 4
}
